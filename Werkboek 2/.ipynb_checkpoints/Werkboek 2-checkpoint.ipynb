{
 "cells": [
  {
   "cell_type": "markdown",
   "metadata": {},
   "source": [
    "<div style=\"text-align: center\"> <h1> Beslisboombouwen.nl </h1> </div>\n",
    "<div style=\"text-align: center\"> <h2> werkboek 2 - <i> Theorie in de praktijk </i> </h2> </div>"
   ]
  },
  {
   "cell_type": "markdown",
   "metadata": {},
   "source": [
    "<div style=\"text-align: center\"><img src=\"https://www.python.org/static/img/python-logo@2x.png\" /></div>"
   ]
  },
  {
   "cell_type": "markdown",
   "metadata": {},
   "source": [
    "In deze opdracht gaan we verder kijken wat een goede vraag is voor het opstellen van een beslisboom. Hiervoor zijn verschillende maatstaven te gebruiken. De keuze hiervoor hangt af van het beoogde doel van de beslisboom. In de presentatie hebben we gezien dat één van deze maatstaven de  **Gini impurity index** is. Deze index geeft de mate van ongelijkheid weer in een verdeling; hoe lager (dichter bij 0) deze index, hoe beter de splitsing is. We gaan nu deze theorie toepassen op onze data, om te zien hoe de **Gini impurity index** bij **beslisbomen** in de praktijk wordt gebruikt."
   ]
  },
  {
   "cell_type": "markdown",
   "metadata": {},
   "source": [
    "<h3><a name=\"opdracht2\"> Opdracht 2.0 packages inladen </a></h3>"
   ]
  },
  {
   "cell_type": "markdown",
   "metadata": {},
   "source": [
    "Om pakketten in te laden, moeten onderstaande regels gekopierd worden naar een nieuwe code-cell.  Let op! Gebruik voor het kopiëren de sneltoetsen Ctrl+C, Ctrl+V .\n",
    "\n",
    "```python\n",
    "import pandas\n",
    "import sklearn\n",
    "import numpy\n",
    "```"
   ]
  },
  {
   "cell_type": "code",
   "execution_count": null,
   "metadata": {},
   "outputs": [],
   "source": []
  },
  {
   "cell_type": "markdown",
   "metadata": {},
   "source": [
    "***"
   ]
  },
  {
   "cell_type": "markdown",
   "metadata": {},
   "source": [
    "<h4><a name=\"opdracht2.1\"> Opdracht 2.1 Data inlezen </a></h4>"
   ]
  },
  {
   "cell_type": "markdown",
   "metadata": {},
   "source": [
    "Voor dit gedeelte van de workshop maken gaan jullie gebruik maken van de <b><i>'superhelden'</i></b>-dataset. Deze dataset is beschikbaar in de huidige directory (huidige map op de server). We gebruiken pandas om de data in te lezen. De volgende code moet gebruikt worden om de data in te lezen. Let op dat dit bestand een `csv` bestand is, en niet net als in opdracht 1.1 een `excel` bestand.\n",
    "\n",
    "In de vorige opdracht gebruikten we:\n",
    "```python\n",
    "var = pandas.read_excel(\"file.xlsx\") #waarbij \"file.xlsx\" vervangen moet worden door de bestandsnaam\n",
    "```\n",
    "Dit vervangen we nu door:\n",
    "```python\n",
    "var = pandas.read_csv(\"file.csv\") #waarbij \"file.csv\" vervangen moet worden door de bestandsnaam\n",
    "```\n",
    "\n",
    "In bovenstaand voorbeeld schrijven wij de `file.csv` toe aan een variabele met de naam: `var`. In deze opdracht schrijven we het bestand `gini_index_voorbeeld_data.csv` toe aan variabele `df_gini`. Kopier de regel met code, verander de variabele `var` en `\"file.csv\"` naar de juiste waardes en voeg deze in onderstaande cel toe:"
   ]
  },
  {
   "cell_type": "code",
   "execution_count": null,
   "metadata": {},
   "outputs": [],
   "source": [
    "df_gini = pandas.read_...(\"...\")"
   ]
  },
  {
   "cell_type": "markdown",
   "metadata": {},
   "source": [
    "<a href = \"#2.1\">Hint</a> (Alleen als je er niet uitkomt!)"
   ]
  },
  {
   "cell_type": "markdown",
   "metadata": {},
   "source": [
    "We leggen uit hoe de gini impurity index in een beslisboom gebruikt wordt aan de hand van een voorbeeld. Bij deze dataset willen we niet de naam van het karakter bepalen maar of het een 'goed' of 'slecht' karakter is. Bij het opstellen van een beslisboom zijn we dan dus op zoek naar eigenschappen die kenmerkend zijn voor 'goede' en 'slechte' karakters. Dit bekijken we eerst voor de eigenschap geslacht.\n",
    "\n",
    "We vragen ons dus af of het geslacht een goede voorspeller voor het goed of slecht zijn van een superheld is. \n",
    "En in termen van het **‘wie is het’-spel**; is ‘<b>Is het een man?</b>’ een goede eerste vraag?"
   ]
  },
  {
   "cell_type": "markdown",
   "metadata": {},
   "source": [
    "Voer onderstaande code uit om de voorbeeld dataset te bekijken."
   ]
  },
  {
   "cell_type": "code",
   "execution_count": null,
   "metadata": {},
   "outputs": [],
   "source": [
    "df_gini"
   ]
  },
  {
   "cell_type": "markdown",
   "metadata": {},
   "source": [
    "***\n",
    "\n",
    "<h4><a name=\"opdracht2.2.1\"> Opdracht 2.2.1 Gini stap 1 (1)</a></h4>\n",
    "\n",
    "De **Gini impurity index** kan berekend worden per keuze/vraag moment in de beslisboom. Dit is de algemene formule voor de Gini-index: <br>"
   ]
  },
  {
   "cell_type": "markdown",
   "metadata": {},
   "source": [
    "$$ \\text{Gini impurity index} = 1 - \\sum_{i=1}^{C} (p_i)^{2}  $$"
   ]
  },
  {
   "cell_type": "markdown",
   "metadata": {},
   "source": [
    "In woorden is dat: De Gini impurity index is één minus de som van het kwadraat van alle kansen per klasse. Geen zorgen, we gaan dit met een voorbeeld stap voor stap doorwerken.\n",
    "\n",
    "We zullen de Gini impurity index berekenen voor de man/vrouw splitsing in onze beslisboom.\n",
    "\n",
    "Dit gaat in meerdere stappen:<br>\n",
    "1) Bereken de kans van het geslacht bij willekeurige selectie <br>\n",
    "2) Bereken de kans op goed/slecht per geslacht (dus (a) voor man en (b) voor vrouw)<br>\n",
    "3) Vul de gevonden waardes in de formule voor de gini-index<br>\n",
    "4) Herhaal deze stappen voor alle mogelijke variabelen en vergelijk de verschillende indexen voor het kiezen van de beste vraag.<br>\n",
    "\n",
    "**Stap 1**:\n",
    "\n",
    "Bereken voor zowel de mannen als vrouwen de kans om bij het willekeurig selecteren van een superheld een man/vrouw te selecteren.\n",
    "$$P(SEX = Male) = \\frac{3}{7}$$\n",
    "$$P(SEX = Female) = \\frac{4}{7}$$"
   ]
  },
  {
   "cell_type": "markdown",
   "metadata": {},
   "source": [
    "We gaan nu dezelfde kansen uitreken aan de hand van de ingelezen data. Om de kansen uit te rekenen moeten we weten hoeveel karakters man zijn en hoeveel karakters vrouw zijn. Dat doen we aan de hand van de volgende code:\n",
    "\n",
    "```python\n",
    "df['kolomnaam'] == \"criteria\" \n",
    "\n",
    "#waarbij df vervangen moet worden door onze dataset, kolomnaam de kolomnaam moet worden waarin het \n",
    "#kenmerk staat waar we het criteria mee willen vergelijken \n",
    "```\n",
    "\n",
    "Kijk voor wat je moet invullen ook zeker in de dataset!"
   ]
  },
  {
   "cell_type": "code",
   "execution_count": null,
   "metadata": {},
   "outputs": [],
   "source": [
    "vrouwen = df_gini['...']==\"Female Characters\""
   ]
  },
  {
   "cell_type": "code",
   "execution_count": null,
   "metadata": {},
   "outputs": [],
   "source": [
    "mannen  = ...['...']==\"...\""
   ]
  },
  {
   "cell_type": "markdown",
   "metadata": {},
   "source": [
    "<a href = \"#2.2.1\">Hint</a> (Alleen als je er niet uitkomt!)"
   ]
  },
  {
   "cell_type": "markdown",
   "metadata": {},
   "source": [
    "<h4><a name=\"opdracht2.2.2\"> Opdracht 2.2.2 Gini stap 1 (2)</a></h4>\n",
    "We gaan nu de kans uitrekenen dat als we willekeurig een karakter kiezen dit een vrouw is: dit kunnen we doen door het aantal vrouwelijke karakters te delen door het totaal aantal karakters. \n",
    "\n",
    "```python\n",
    "kans := (het aantal vrouwen) / (het totaal aantal karakters) \n",
    "kans  = len(df_gini[...])    / len(...)\n",
    "```\n",
    "\n",
    "Bij de eerste `len(...)` staat er `df_gini[...]`. Dit is gedaan omdat de selectie die we eerder gemaakt hebben en opgeslagen hebben in `mannen` en `vrouwen` een lijst bevat met `waar` en `niet waar` elementen. Door deze in te vullen in de dataset `df_gini` krijgen we alleen de regels terug waarvoor `waar` ingevuld staat."
   ]
  },
  {
   "cell_type": "code",
   "execution_count": null,
   "metadata": {},
   "outputs": [],
   "source": [
    "kans_vrouw = len(df_gini[...]) / len(...)"
   ]
  },
  {
   "cell_type": "code",
   "execution_count": null,
   "metadata": {},
   "outputs": [],
   "source": [
    "kans_man   = ...(df_gini[...]) / len(...)"
   ]
  },
  {
   "cell_type": "markdown",
   "metadata": {},
   "source": [
    "<a href = \"#2.2.2\">Hint</a> (Alleen als je er niet uitkomt!)"
   ]
  },
  {
   "cell_type": "markdown",
   "metadata": {},
   "source": [
    "Voer de volgende regels uit om te zien wat de kansen worden:"
   ]
  },
  {
   "cell_type": "code",
   "execution_count": null,
   "metadata": {},
   "outputs": [],
   "source": [
    "print(\"Bij willekeurig selecteren is de kans op een man  \",   round(kans_man,3)  ,\".\")\n",
    "print(\"Bij willekeurig selecteren is de kans op een vrouw\", round(kans_vrouw,3)  ,\".\")"
   ]
  },
  {
   "cell_type": "markdown",
   "metadata": {},
   "source": [
    "***"
   ]
  },
  {
   "cell_type": "markdown",
   "metadata": {},
   "source": [
    "<h4><a name=\"opdracht2.3.1\"> Opdracht 2.3.1 Gini stap 2a (1)</a></h4>\n",
    "\n",
    "We gaan nu verder met het uitrekenen van meer kansen om de **Gini impurity index** uit te rekenen. (**stap 2a**)\n",
    "\n",
    "Het is de bedoeling dat jullie de volgende kansen gaan uitrekenen:\n",
    "\n",
    "<div style=\"text-align: center\"> 1: De kans dat een goede mannelijke superheld geselecteerd wordt </div>\n",
    "<div style=\"text-align: center\"> 2: De kans dat een slechte mannelijke superheld geselecteerd wordt </div>"
   ]
  },
  {
   "cell_type": "markdown",
   "metadata": {},
   "source": [
    "Het is van belang dat dezelfde stappen uitgevoerd worden als hierboven:\n",
    "\n",
    "1. Maak een selectie zoals we gedaan hebben voor de groep vrouwen en mannen in de df_gini dataset. (zie evt. <a href = \"#opdracht2.2.2\">opdracht 2.2.2</a>)<br> \n",
    "2. Pas de selecties toe op de df_gini dataset als volgt: <br>\n",
    "\n",
    "```python\n",
    "dataset = df[criteria_1 & criteria_2]\n",
    "```\n",
    "\n",
    "3. bepaal de kansen:\n",
    "    - De kans dat een goede mannelijke superheld geselecteerd wordt.   <a href = \"#2.3.1\">Hint</a> (Alleen als je er niet uitkomt!)\n",
    " "
   ]
  },
  {
   "cell_type": "code",
   "execution_count": null,
   "metadata": {},
   "outputs": [],
   "source": [
    "goed   = df_gini['ALIGN']==\"...\""
   ]
  },
  {
   "cell_type": "code",
   "execution_count": null,
   "metadata": {},
   "outputs": [],
   "source": [
    "kans_man_goed   = len(df_gini[mannen & ...]) / len(df_gini[mannen])"
   ]
  },
  {
   "cell_type": "markdown",
   "metadata": {},
   "source": [
    "   - De kans dat een slechte mannelijke superheld geselecteerd wordt.     <a href = \"#2.3.1.2\">Hint</a> (Alleen als je er niet uitkomt!)"
   ]
  },
  {
   "cell_type": "code",
   "execution_count": null,
   "metadata": {},
   "outputs": [],
   "source": [
    "slecht = df_gini['...']==\"...\""
   ]
  },
  {
   "cell_type": "code",
   "execution_count": null,
   "metadata": {},
   "outputs": [],
   "source": [
    "kans_man_slecht = len(df_gini[... & ...]) / len(df_gini[...])"
   ]
  },
  {
   "cell_type": "markdown",
   "metadata": {},
   "source": [
    "Voer de volgende regels uit om te zien wat de kansen worden:"
   ]
  },
  {
   "cell_type": "code",
   "execution_count": null,
   "metadata": {},
   "outputs": [],
   "source": [
    "print(\"Bij willekeurig selecteren is de kans op een man die een goed karakter is:  \",   round(kans_man_goed,  3) ,\".\")\n",
    "print(\"Bij willekeurig selecteren is de kans op een man die een slecht karakter is:\",   round(kans_man_slecht,3) ,\".\")"
   ]
  },
  {
   "cell_type": "markdown",
   "metadata": {},
   "source": [
    "***"
   ]
  },
  {
   "cell_type": "markdown",
   "metadata": {},
   "source": [
    "<h4><a name=\"opdracht2.3.2\"> Opdracht 2.3.2 Gini stap 2a (2)</a></h4>"
   ]
  },
  {
   "cell_type": "markdown",
   "metadata": {},
   "source": [
    "Als we de **Gini impurity index** voor de vraag \"<i>Gegeven dat een karakter man is, is hij dan goed?</i>\" willen beantwoorden is dat als volgt:\n",
    "\n",
    "$$\\text{Gini index} = 1 - \\left(\\left(\\text{kans dat een mannelijk karakter goed is} \\right)^2 + \\left(\\text{kans dat een mannelijk karakter slecht is}\\right)^2 \\right)$$ \n",
    "\n",
    "Als we de kansen invullen krijgen we:\n",
    "\n",
    "$$\\text{Gini index} = 1 - \\left(\\left(\\frac{2}{3}\\right)^2 + \\left(\\frac{1}{3}\\right)^2 \\right) \\approx 0.444$$"
   ]
  },
  {
   "cell_type": "markdown",
   "metadata": {},
   "source": [
    "Het is nu aan jullie om diezelfde kans uit te rekenen, maar dan met de variabelen die we eerder gemaakt hebben (o.a. `kans_man_goed`):"
   ]
  },
  {
   "cell_type": "code",
   "execution_count": null,
   "metadata": {},
   "outputs": [],
   "source": [
    "gini_index_man = 1 - ((...)**2 +(...)**2)"
   ]
  },
  {
   "cell_type": "markdown",
   "metadata": {},
   "source": [
    "<a href = \"#2.3.2\">Hint</a> (Alleen als je er niet uitkomt!)"
   ]
  },
  {
   "cell_type": "markdown",
   "metadata": {},
   "source": [
    "<h4><a name=\"opdracht2.4.1\"> Opdracht 2.4.1 Gini stap 2b</a></h4>\n",
    "\n",
    "**Stap 2b** Nu de taak aan jullie om hetzelfde te doen, maar dan voor vrouwelijke karakters!"
   ]
  },
  {
   "cell_type": "code",
   "execution_count": null,
   "metadata": {},
   "outputs": [],
   "source": [
    "goed   = ..."
   ]
  },
  {
   "cell_type": "code",
   "execution_count": null,
   "metadata": {},
   "outputs": [],
   "source": [
    "slecht = ..."
   ]
  },
  {
   "cell_type": "code",
   "execution_count": null,
   "metadata": {},
   "outputs": [],
   "source": [
    "kans_vrouw_goed   = len(df_gini[... & ...]) / len(df_gini[...])"
   ]
  },
  {
   "cell_type": "code",
   "execution_count": null,
   "metadata": {},
   "outputs": [],
   "source": [
    "kans_vrouw_slecht = len(df_gini[... & ...]) / len(df_gini[...])"
   ]
  },
  {
   "cell_type": "code",
   "execution_count": null,
   "metadata": {},
   "outputs": [],
   "source": [
    "gini_index_vrouw = 1 - ((...)^2 +(...)^2)"
   ]
  },
  {
   "cell_type": "markdown",
   "metadata": {},
   "source": [
    "<a href = \"#2.4.1\">Hint</a> (Alleen als je er niet uitkomt!)"
   ]
  },
  {
   "cell_type": "markdown",
   "metadata": {},
   "source": [
    "<h4><a name=\"opdracht2.4.2\"> Opdracht 2.4.2 Gini stap 3 (1)</a></h4>"
   ]
  },
  {
   "cell_type": "markdown",
   "metadata": {},
   "source": [
    "We zijn nu bij stap 3. We combineren dus de berekeningen voor de mannelijke en vrouwelijke karakters. Dit doen we naar rato, oftwel we berekenen een gewogen gemiddelde van de Gini index met de in stap 1 en 2 berekende kansen. Dit is de gini index voor de variabele *geslacht*.\n",
    "\n",
    "$$\\text{Gini index geslacht} = G_{\\text{Geslacht}} = \\Big( \\frac{\\text{aantal mannen}}{\\text{aantal karakters}} \\times \\text{Gini-index goed/slecht karakter gegeven man} \\Big) + \n",
    "\\Big(\\frac{\\text{aantal vrouwen}}{\\text{aantal karakters}} \\times \\text{Gini-index goed/slecht karakter gegeven vrouw}\\Big)$$\n"
   ]
  },
  {
   "cell_type": "markdown",
   "metadata": {},
   "source": [
    "Probeer of je de berekende kansen van stap 1 en 2 kan invullen in bovenstaande formule. <a href = \"#opdracht2.4.3\">Ga door.</a> (Alleen als jullie gepuzzeld hebben.)"
   ]
  },
  {
   "cell_type": "markdown",
   "metadata": {},
   "source": [
    "<br><br><br><br><br><br><br><br><br><br><br><br><br><br><br><br><br><br><br><br><br><br><br><br><br><br><br><br><br><br><br><br><br><br><br><br><br><br><br><br><br><br><br><br><br><br><br><br><br><br><br><br><br><br><br><br><br><br><br><br><br><br><br><br>"
   ]
  },
  {
   "cell_type": "markdown",
   "metadata": {},
   "source": [
    "<h4><a name=\"opdracht2.4.3\"> Opdracht 2.4.3 Gini stap 3 (2)</a></h4>"
   ]
  },
  {
   "cell_type": "markdown",
   "metadata": {},
   "source": [
    "Kwamen jullie eruit? Hier is het antwoord:"
   ]
  },
  {
   "cell_type": "markdown",
   "metadata": {},
   "source": [
    "$$\\text{Gini index geslacht} = G_{\\text{Geslacht}} = \\frac{3}{7} \\times 0.444 + \\frac{4}{7} \\times 0.5 \\approx 0.476$$"
   ]
  },
  {
   "cell_type": "code",
   "execution_count": null,
   "metadata": {},
   "outputs": [],
   "source": [
    "G_geslacht = kans_man * gini_index_man + kans_vrouw * gini_index_vrouw"
   ]
  },
  {
   "cell_type": "markdown",
   "metadata": {},
   "source": [
    "<h4><a name=\"opdracht2.5\"> Opdracht 2.5 Gini stap 4</a></h4>"
   ]
  },
  {
   "cell_type": "markdown",
   "metadata": {},
   "source": [
    "Nu weten we de Gini-index voor geslacht. Maar is dit nu de beste splitsing voor onze beslisboom? Of kunnen we beter eerst splitsen op haarkleur of oogkleur? Daarvoor kunnen we deze waarde vergelijken met de Gini-index van oogkleur en haarkleur."
   ]
  },
  {
   "cell_type": "markdown",
   "metadata": {},
   "source": [
    "Het handwerk hebben jullie net al gedaan. Om dit niet te hoeven herhalen hebben wij een functie geschreven."
   ]
  },
  {
   "cell_type": "markdown",
   "metadata": {},
   "source": [
    "Een functie in Python is een verzameling regels dat voor verschillende input, dezelfde regels op dezelfde manier uitvoert.\n",
    "Hieronder zien we een voorbeeld van een functie waarmee getallen gekwadrateerd kunnen worden."
   ]
  },
  {
   "cell_type": "code",
   "execution_count": null,
   "metadata": {},
   "outputs": [],
   "source": [
    "def bereken_kwadraat(getal):\n",
    "    kwadraat = getal*getal\n",
    "    return kwadraat"
   ]
  },
  {
   "cell_type": "markdown",
   "metadata": {},
   "source": [
    "We kunnen deze functie nu toepassen op een getal."
   ]
  },
  {
   "cell_type": "code",
   "execution_count": null,
   "metadata": {},
   "outputs": [],
   "source": [
    "bereken_kwadraat(3)"
   ]
  },
  {
   "cell_type": "markdown",
   "metadata": {},
   "source": [
    "We zien dat de functie het kwadraat van 3 berekend, en als output 9 geeft.\n",
    "De regels die hiervoor gebruikt zijn, zijn niet te zien.\n",
    "De functie heeft het algoritme van kwadrateren opgeslagen en kunnen we toepassen op verschillende input getallen.\n",
    "Dit is precies wat we willen voor het algoritme wat we hebben gevonden voor het berekenen van de Gini index."
   ]
  },
  {
   "cell_type": "markdown",
   "metadata": {},
   "source": [
    " Jullie mogen onderstaande functie doorlopen om te kijken of je hem helemaal kunt volgen. Je mag ook aannemen dat deze klopt en hem gebruiken."
   ]
  },
  {
   "cell_type": "code",
   "execution_count": null,
   "metadata": {},
   "outputs": [],
   "source": [
    "def bereken_gini(data_frame, var, doel):\n",
    "    #Bereken het totaal aantal datapunten\n",
    "    aantal_datapunten = len(data_frame)\n",
    "    # Creër een frequentie tabel om te zien hoe vaak bepaalde opties van viabelen voorkomen.\n",
    "    # Bijvoorbeeld, hoe vaak komt de optie 'zwart haar' voor.\n",
    "    freq_tab = pandas.crosstab(index = data_frame[doel], \n",
    "                   columns = data_frame[var])\n",
    "    # Bereken hoeveel opties we binnen de variabele hebben.\n",
    "    # Bijvoorbeeld, hoeveel verschillende haarkleuren zijn er.\n",
    "    aantal_opties_variabele = len(freq_tab.iloc[0])\n",
    "    # Maak variabelen aan die we straks kunnen vullen met waarden.\n",
    "    p_select = [0]*aantal_opties_variabele\n",
    "    gini = [0]*aantal_opties_variabele\n",
    "    # Bereken de Gini index voor een variabele door de verschillende opties binnen de variabele langs te gaan.\n",
    "    for optie in range(aantal_opties_variabele):\n",
    "        totaal_binnen_optie = sum(freq_tab.iloc[:, optie])\n",
    "        voorkomen_per_optie = freq_tab.iloc[:, optie]\n",
    "        # Bereken de kans op het vinden van een datapunt met de gegeven optie\n",
    "        # Bijvoorbeeld, wat is de kans om iemand met zwart haar te vinden?\n",
    "        p_select[optie] = totaal_binnen_optie/aantal_datapunten\n",
    "        # Bereken de gini index voor de optie binnen de variabele\n",
    "        gini[optie] = 1 - sum((voorkomen_per_optie/totaal_binnen_optie)**2)\n",
    "    # Bereken gewogen Gini index\n",
    "    gewogen_gini = sum(numpy.multiply(gini, p_select))\n",
    "    return gewogen_gini"
   ]
  },
  {
   "cell_type": "markdown",
   "metadata": {},
   "source": [
    "Gebruik nu de functie `bereken_gini(dataset, variabele, doel)` om die gini-index van oogkleur en haarkleur te berekenen."
   ]
  },
  {
   "cell_type": "code",
   "execution_count": null,
   "metadata": {},
   "outputs": [],
   "source": [
    "G_haarkleur = bereken_gini(df_gini, \"...\", \"...\")"
   ]
  },
  {
   "cell_type": "code",
   "execution_count": null,
   "metadata": {},
   "outputs": [],
   "source": [
    "G_oogkleur = bereken_gini(df_gini, \"...\", \"...\")"
   ]
  },
  {
   "cell_type": "markdown",
   "metadata": {},
   "source": [
    "<a href = \"#2.5\">Hint</a> (Alleen als je er niet uitkomt!)"
   ]
  },
  {
   "cell_type": "markdown",
   "metadata": {},
   "source": [
    "Heb je de antwoorden gevonden? <a href=\"#opdracht2.6\">Ga dan verder</a>."
   ]
  },
  {
   "cell_type": "markdown",
   "metadata": {},
   "source": [
    "<br><br><br><br><br><br><br><br><br><br><br><br><br><br><br><br><br><br><br><br><br><br><br><br><br><br><br><br><br><br><br><br><br><br><br><br><br><br><br><br><br><br><br><br><br><br><br><br><br><br><br><br><br><br><br><br><br><br><br><br><br><br><br><br><br><br><br><br><br><br><br><br>\n"
   ]
  },
  {
   "cell_type": "markdown",
   "metadata": {},
   "source": [
    "<h4><a name=\"opdracht2.6\"> Opdracht 2.6 Gini conclusie</a></h4>\n",
    "We kunnen nu de 3 gewogen gemiddelde van de Gini indices vergelijken.<br><br>\n",
    "\n",
    "$\\text{MIN}\\Big(G_{geslacht} \\approx 0.476$ | $G_{oogkleur} \\approx 0.286$ | $G_{haarkleur} = 0 \\Big) = 0$\n",
    "\n",
    "In het beslisboomalgoritme op basis van de Gini index wordt de variabele met de laagste Gini index gebruikt om als eerst de data mee te splitsen.\n",
    "Dit is voor het algoritme dus het antwoord op de vraag wat de beste openingsvraag voor het spel 'wie is het' zou zijn op basis van deze data.\n",
    "We zien dat dit haarkleur is. \n",
    "Zoals we eerder al hebben opgemerkt is op basis van haarkleur een perfecte scheiding tussen goede en slechte superhelden te maken. \n",
    "Dit zagen we terug in de Gini index van 0, wat er nu voor zorgt dat we deze variabele kiezen om onze data mee te splitsen.\n",
    "\n",
    "Wanneer nog geen perfecte splitsing gevonden kan worden kan de beslisboom worden uitgebreid.\n",
    "Voor de eerste splitsing wordt dan de variabele met de laagste Gini index gekozen en vervolgens wordt met de gesplitste dataset die dat oplevert de bovenstaande stappen herhaald."
   ]
  },
  {
   "cell_type": "markdown",
   "metadata": {},
   "source": [
    "Gefeliciteerd! Jullie hebben nu je eerste beslisboom gemaakt en de wiskunde erachter bestudeerd! Goed werk :-)"
   ]
  },
  {
   "cell_type": "markdown",
   "metadata": {},
   "source": [
    "***\n",
    "***\n",
    "\n",
    "<center>BONUS OPDRACHT</center>\n",
    "\n",
    "***\n",
    "***\n",
    "\n"
   ]
  },
  {
   "cell_type": "markdown",
   "metadata": {},
   "source": [
    "Zijn jullie heel snel door deze opdrachten heen? Maak dan nog een beslisboom zoals in werkboek 1!"
   ]
  },
  {
   "cell_type": "code",
   "execution_count": null,
   "metadata": {},
   "outputs": [],
   "source": [
    "from sklearn.tree import DecisionTreeClassifier, plot_tree\n",
    "clf = DecisionTreeClassifier(criterion = \"gini\", random_state=None, splitter='best')"
   ]
  },
  {
   "cell_type": "markdown",
   "metadata": {},
   "source": [
    "Let op het het format van je data!"
   ]
  },
  {
   "cell_type": "code",
   "execution_count": null,
   "metadata": {},
   "outputs": [],
   "source": [
    "data = ...\n",
    "label = ...\n",
    "clf.fit(data, label)"
   ]
  },
  {
   "cell_type": "markdown",
   "metadata": {},
   "source": [
    "Met de code hieronder visualiseer je de beslisboom. Je kunt dubbelklikken om in te zoomen. <br>"
   ]
  },
  {
   "cell_type": "code",
   "execution_count": null,
   "metadata": {},
   "outputs": [],
   "source": [
    "plt.figure(figsize = (52,25))\n",
    "plot_tree(clf, \n",
    "          class_names   = list(label), \n",
    "          feature_names = list(data.columns),\n",
    "          filled = True)\n",
    "plt.show()"
   ]
  },
  {
   "cell_type": "markdown",
   "metadata": {},
   "source": [
    "<br><br><br><br><br><br><br><br><br><br><br><br><br><br><br><br><br><br><br><br><br><br><br><br><br><br><br><br><br><br><br><br><br><br><br><br><br><br><br><br><br><br><br><br><br><br><br><br><br><br><br><br><br><br><br><br><br><br><br><br><br><br><br><br><br><br><br><br><br><br><br><br><br><br><br><br><br><br><br><br>"
   ]
  },
  {
   "cell_type": "markdown",
   "metadata": {},
   "source": [
    "***\n",
    "***"
   ]
  },
  {
   "cell_type": "markdown",
   "metadata": {},
   "source": [
    "<div style=\"text-align: center\"> <h3> Hints en oplossingen </h3> </div>"
   ]
  },
  {
   "cell_type": "markdown",
   "metadata": {},
   "source": [
    "***\n",
    "***"
   ]
  },
  {
   "cell_type": "markdown",
   "metadata": {},
   "source": [
    "<a name=\"2.1\"> Opdracht 2.1</a>"
   ]
  },
  {
   "cell_type": "code",
   "execution_count": null,
   "metadata": {},
   "outputs": [],
   "source": [
    "df_gini = pandas.read_csv(\"gini_index_voorbeeld_data.csv\")"
   ]
  },
  {
   "cell_type": "markdown",
   "metadata": {},
   "source": [
    "<a href = \"#opdracht2.1\">Terug naar opdracht 2.1</a>\n",
    "<br>\n",
    "<br>\n",
    "<br>\n",
    "<br>\n",
    "<br>\n",
    "<br>\n",
    "<br>\n",
    "<br>\n",
    "<br>\n",
    "<br>\n",
    "<br>\n",
    "<br>\n",
    "<br>\n",
    "<br>\n",
    "<br>\n",
    "<br>\n",
    "<br>\n",
    "<br>\n",
    "<br>\n",
    "<br>\n",
    "<br>\n",
    "<br>\n",
    "<br>\n",
    "<br>\n",
    "<br>\n",
    "<br>\n",
    "<br>\n",
    "<br>\n",
    "<br>\n",
    "<br>\n",
    "<br>\n",
    "<br>\n",
    "<br>\n",
    "<br>\n",
    "<br>\n",
    "<br>\n",
    "<br>\n",
    "<br>\n",
    "<br>\n",
    "<br>\n",
    "<br>\n",
    "<br>\n",
    "<br>\n",
    "<br>\n",
    "<br>\n",
    "<br>\n",
    "<br>"
   ]
  },
  {
   "cell_type": "markdown",
   "metadata": {},
   "source": [
    "<a name=\"2.2.1\"> Opdracht 2.2.1</a>"
   ]
  },
  {
   "cell_type": "code",
   "execution_count": null,
   "metadata": {},
   "outputs": [],
   "source": [
    "vrouwen = df_gini['SEX']==\"Female Characters\""
   ]
  },
  {
   "cell_type": "code",
   "execution_count": null,
   "metadata": {},
   "outputs": [],
   "source": [
    "mannen  = df_gini['SEX']==\"Male Characters\""
   ]
  },
  {
   "cell_type": "markdown",
   "metadata": {},
   "source": [
    "<a href = \"#opdracht2.2.1\">Terug naar opdracht 2.2.1</a>\n",
    "<br>\n",
    "<br>\n",
    "<br>\n",
    "<br>\n",
    "<br>\n",
    "<br>\n",
    "<br>\n",
    "<br>\n",
    "<br>\n",
    "<br>\n",
    "<br>\n",
    "<br>\n",
    "<br>\n",
    "<br>\n",
    "<br>\n",
    "<br>\n",
    "<br>\n",
    "<br>\n",
    "<br>\n",
    "<br>\n",
    "<br>\n",
    "<br>\n",
    "<br>\n",
    "<br>\n",
    "<br>\n",
    "<br>\n",
    "<br>\n",
    "<br>\n",
    "<br>\n",
    "<br>\n",
    "<br>\n",
    "<br>\n",
    "<br>\n",
    "<br>\n",
    "<br>\n",
    "<br>\n",
    "<br>\n",
    "<br>\n",
    "<br>\n",
    "<br>\n",
    "<br>\n",
    "<br>\n",
    "<br>\n",
    "<br>\n",
    "<br>\n",
    "<br>\n",
    "<br>"
   ]
  },
  {
   "cell_type": "markdown",
   "metadata": {},
   "source": [
    "<a name=\"2.2.2\"> Opdracht 2.2.2</a>"
   ]
  },
  {
   "cell_type": "code",
   "execution_count": null,
   "metadata": {},
   "outputs": [],
   "source": [
    "kans_vrouw = len(df_gini[vrouwen]) / len(df_gini)"
   ]
  },
  {
   "cell_type": "code",
   "execution_count": null,
   "metadata": {},
   "outputs": [],
   "source": [
    "kans_man    = len(df_gini[mannen]) / len(df_gini)"
   ]
  },
  {
   "cell_type": "markdown",
   "metadata": {},
   "source": [
    "<a href = \"#opdracht2.2.2\">Terug naar opdracht 2.2.2</a>\n",
    "<br>\n",
    "<br>\n",
    "<br>\n",
    "<br>\n",
    "<br>\n",
    "<br>\n",
    "<br>\n",
    "<br>\n",
    "<br>\n",
    "<br>\n",
    "<br>\n",
    "<br>\n",
    "<br>\n",
    "<br>\n",
    "<br>\n",
    "<br>\n",
    "<br>\n",
    "<br>\n",
    "<br>\n",
    "<br>\n",
    "<br>\n",
    "<br>\n",
    "<br>\n",
    "<br>\n",
    "<br>\n",
    "<br>\n",
    "<br>\n",
    "<br>\n",
    "<br>\n",
    "<br>\n",
    "<br>\n",
    "<br>\n",
    "<br>\n",
    "<br>\n",
    "<br>\n",
    "<br>\n",
    "<br>\n",
    "<br>\n",
    "<br>\n",
    "<br>\n",
    "<br>\n",
    "<br>\n",
    "<br>\n",
    "<br>\n",
    "<br>\n",
    "<br>\n",
    "<br>"
   ]
  },
  {
   "cell_type": "markdown",
   "metadata": {},
   "source": [
    "<a name=\"2.3.1\"> Opdracht 2.3.1.1</a>"
   ]
  },
  {
   "cell_type": "markdown",
   "metadata": {},
   "source": [
    "2. Bereken voor de mannen:\n",
    "  1. De kans dat een goede mannelijke superheld geselecteerd wordt.\n",
    "  $$P(SEX = Male \\, \\& \\, ALIGN = Good) = \\frac{2}{3}$$\n",
    "  2. De kans dat een slechte mannelijke superheld geselecteerd wordt.\n",
    "  $$P(SEX = Male \\, \\& \\, ALIGN = Bad) = \\frac{1}{3}$$"
   ]
  },
  {
   "cell_type": "code",
   "execution_count": null,
   "metadata": {},
   "outputs": [],
   "source": [
    "goed   = df_gini['ALIGN']==\"Good Characters\""
   ]
  },
  {
   "cell_type": "code",
   "execution_count": null,
   "metadata": {},
   "outputs": [],
   "source": [
    "kans_man_goed   = len(df_gini[mannen & goed]) / len(df_gini[mannen])"
   ]
  },
  {
   "cell_type": "markdown",
   "metadata": {},
   "source": [
    "<a href = \"#opdracht2.3.1\">Terug naar opdracht 2.3.1</a>\n",
    "<br>\n",
    "<br>\n",
    "<br>\n",
    "<br>\n",
    "<br>\n",
    "<br>\n",
    "<br>\n",
    "<br>\n",
    "<br>\n",
    "<br>\n",
    "<br>\n",
    "<br>\n",
    "<br>\n",
    "<br>\n",
    "<br>\n",
    "<br>\n",
    "<br>\n",
    "<br>\n",
    "<br>\n",
    "<br>\n",
    "<br>\n",
    "<br>\n",
    "<br>\n",
    "<br>\n",
    "<br>\n",
    "<br>\n",
    "<br>\n",
    "<br>\n",
    "<br>\n",
    "<br>\n",
    "<br>\n",
    "<br>\n",
    "<br>\n",
    "<br>\n",
    "<br>\n",
    "<br>\n",
    "<br>\n",
    "<br>\n",
    "<br>\n",
    "<br>\n",
    "<br>\n",
    "<br>\n",
    "<br>\n",
    "<br>\n",
    "<br>\n",
    "<br>\n",
    "<br>"
   ]
  },
  {
   "cell_type": "markdown",
   "metadata": {},
   "source": [
    "<a name=\"2.3.1.2\"> Opdracht 2.3.1.2</a>"
   ]
  },
  {
   "cell_type": "code",
   "execution_count": null,
   "metadata": {},
   "outputs": [],
   "source": [
    "slecht = df_gini['ALIGN']==\"Bad Characters\""
   ]
  },
  {
   "cell_type": "code",
   "execution_count": null,
   "metadata": {},
   "outputs": [],
   "source": [
    "kans_man_slecht = len(df_gini[mannen & slecht]) / len(df_gini[mannen])"
   ]
  },
  {
   "cell_type": "markdown",
   "metadata": {},
   "source": [
    "<a href = \"#opdracht2.3.1\">Terug naar opdracht 2.3.1</a>\n",
    "<br>\n",
    "<br>\n",
    "<br>\n",
    "<br>\n",
    "<br>\n",
    "<br>\n",
    "<br>\n",
    "<br>\n",
    "<br>\n",
    "<br>\n",
    "<br>\n",
    "<br>\n",
    "<br>\n",
    "<br>\n",
    "<br>\n",
    "<br>\n",
    "<br>\n",
    "<br>\n",
    "<br>\n",
    "<br>\n",
    "<br>\n",
    "<br>\n",
    "<br>\n",
    "<br>\n",
    "<br>\n",
    "<br>\n",
    "<br>\n",
    "<br>\n",
    "<br>\n",
    "<br>\n",
    "<br>\n",
    "<br>\n",
    "<br>\n",
    "<br>\n",
    "<br>\n",
    "<br>\n",
    "<br>\n",
    "<br>\n",
    "<br>\n",
    "<br>\n",
    "<br>\n",
    "<br>\n",
    "<br>\n",
    "<br>\n",
    "<br>\n",
    "<br>\n",
    "<br>"
   ]
  },
  {
   "cell_type": "markdown",
   "metadata": {},
   "source": [
    "<a name=\"2.3.2\"> Opdracht 2.3.2</a>"
   ]
  },
  {
   "cell_type": "code",
   "execution_count": null,
   "metadata": {},
   "outputs": [],
   "source": [
    "gini_index_man = 1 - ((kans_man_goed)^2 +(kans_man_slecht)^2)"
   ]
  },
  {
   "cell_type": "markdown",
   "metadata": {},
   "source": [
    "<a href = \"#opdracht2.3.2\">Terug naar opdracht 2.3.2</a>\n",
    "<br>\n",
    "<br>\n",
    "<br>\n",
    "<br>\n",
    "<br>\n",
    "<br>\n",
    "<br>\n",
    "<br>\n",
    "<br>\n",
    "<br>\n",
    "<br>\n",
    "<br>\n",
    "<br>\n",
    "<br>\n",
    "<br>\n",
    "<br>\n",
    "<br>\n",
    "<br>\n",
    "<br>\n",
    "<br>\n",
    "<br>\n",
    "<br>\n",
    "<br>\n",
    "<br>\n",
    "<br>\n",
    "<br>\n",
    "<br>\n",
    "<br>\n",
    "<br>\n",
    "<br>\n",
    "<br>\n",
    "<br>\n",
    "<br>\n",
    "<br>\n",
    "<br>\n",
    "<br>\n",
    "<br>\n",
    "<br>\n",
    "<br>\n",
    "<br>\n",
    "<br>\n",
    "<br>\n",
    "<br>\n",
    "<br>\n",
    "<br>\n",
    "<br>\n",
    "<br>"
   ]
  },
  {
   "cell_type": "markdown",
   "metadata": {},
   "source": [
    "<a name=\"2.4.1\"> Opdracht 2.4.1</a>"
   ]
  },
  {
   "cell_type": "markdown",
   "metadata": {},
   "source": [
    "1. De kans dat een goede vrouwelijke superheld geselecteerd wordt.\n",
    "  $$P(SEX = Female \\, \\& \\, ALIGN = Good) = \\frac{2}{4}$$\n",
    "2. De kans dat een slechte vrouwelijke superheld geselecteerd wordt.\n",
    "  $$P(SEX = Female \\, \\& \\, ALIGN = Bad) = \\frac{2}{4}$$"
   ]
  },
  {
   "cell_type": "code",
   "execution_count": null,
   "metadata": {},
   "outputs": [],
   "source": [
    "goed   = df_gini['ALIGN']==\"Good Characters\""
   ]
  },
  {
   "cell_type": "code",
   "execution_count": null,
   "metadata": {},
   "outputs": [],
   "source": [
    "slecht = df_gini['ALIGN']==\"Bad Characters\""
   ]
  },
  {
   "cell_type": "code",
   "execution_count": null,
   "metadata": {},
   "outputs": [],
   "source": [
    "kans_vrouw_goed   = len(df_gini[vrouwen & goed]) / len(df_gini[vrouwen])"
   ]
  },
  {
   "cell_type": "code",
   "execution_count": null,
   "metadata": {},
   "outputs": [],
   "source": [
    "kans_vrouw_slecht = len(df_gini[vrouwen & slecht]) / len(df_gini[vrouwen])"
   ]
  },
  {
   "cell_type": "markdown",
   "metadata": {},
   "source": [
    "3. Trek de som van de kwadraten van de kansen van 1 af. Dit is de gini index voor uitkomst *vrouw* van variabele *geslacht*.\n",
    "  $$\\text{Gini index} = 1 - \\left(\\left(\\frac{2}{4}\\right)^2 + \\left(\\frac{2}{4}\\right)^2 \\right) = 0.5$$"
   ]
  },
  {
   "cell_type": "code",
   "execution_count": null,
   "metadata": {},
   "outputs": [],
   "source": [
    "gini_index_vrouw = 1 - ((kans_vrouw_goed)^2 +(kans_vrouw_slecht)^2)"
   ]
  },
  {
   "cell_type": "markdown",
   "metadata": {},
   "source": [
    "<a href = \"#opdracht2.4.1\">Terug naar opdracht 2.4.1</a>\n",
    "<br>\n",
    "<br>\n",
    "<br>\n",
    "<br>\n",
    "<br>\n",
    "<br>\n",
    "<br>\n",
    "<br>\n",
    "<br>\n",
    "<br>\n",
    "<br>\n",
    "<br>\n",
    "<br>\n",
    "<br>\n",
    "<br>\n",
    "<br>\n",
    "<br>\n",
    "<br>\n",
    "<br>\n",
    "<br>\n",
    "<br>\n",
    "<br>\n",
    "<br>\n",
    "<br>\n",
    "<br>\n",
    "<br>\n",
    "<br>\n",
    "<br>\n",
    "<br>\n",
    "<br>\n",
    "<br>\n",
    "<br>\n",
    "<br>\n",
    "<br>\n",
    "<br>\n",
    "<br>\n",
    "<br>\n",
    "<br>\n",
    "<br>\n",
    "<br>\n",
    "<br>\n",
    "<br>\n",
    "<br>\n",
    "<br>\n",
    "<br>\n",
    "<br>\n",
    "<br>"
   ]
  },
  {
   "cell_type": "markdown",
   "metadata": {},
   "source": [
    "<a name=\"2.5\"> Opdracht 2.5</a>"
   ]
  },
  {
   "cell_type": "code",
   "execution_count": null,
   "metadata": {},
   "outputs": [],
   "source": [
    "G_haarkleur = bereken_gini(df_gini, \"HAIR\", \"ALIGN\")"
   ]
  },
  {
   "cell_type": "code",
   "execution_count": null,
   "metadata": {},
   "outputs": [],
   "source": [
    "G_oogkleur = bereken_gini(df_gini, \"EYE\", \"ALIGN\")"
   ]
  },
  {
   "cell_type": "markdown",
   "metadata": {},
   "source": [
    "<a href = \"#opdracht2.5\">Terug naar opdracht 2.5</a>"
   ]
  }
 ],
 "metadata": {
  "kernelspec": {
   "display_name": "Python 3",
   "language": "python",
   "name": "python3"
  },
  "language_info": {
   "codemirror_mode": {
    "name": "ipython",
    "version": 3
   },
   "file_extension": ".py",
   "mimetype": "text/x-python",
   "name": "python",
   "nbconvert_exporter": "python",
   "pygments_lexer": "ipython3",
   "version": "3.6.5"
  }
 },
 "nbformat": 4,
 "nbformat_minor": 2
}
