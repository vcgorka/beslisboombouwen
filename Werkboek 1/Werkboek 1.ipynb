{
 "cells": [
  {
   "cell_type": "markdown",
   "metadata": {},
   "source": [
    "<div style=\"text-align: center\"> <h1> Beslisboombouwen.nl </h1> </div>\n",
    "<div style=\"text-align: center\"> <h2> werkboek 1 - <i> Intro en 'Wie is het' </i> </h2> </div>\n",
    "\n",
    "\n",
    "\n"
   ]
  },
  {
   "cell_type": "markdown",
   "metadata": {},
   "source": [
    "<img src=\"https://www.python.org/static/img/python-logo@2x.png\" />\n",
    "\n",
    "\n",
    "Tijdens deze workshop maken we gebruik van een <a href=\"https://www.python.org\">Python</a> omgeving. Python is een programeertaal ontworpen en ontwikkeld  door Guido van Rossum (Centrum voor Wiskunde en Informatica in Amsterdam). Het voordeel van de opensource programmeertalen Python en R is dat veel aanvullende pakketen (packages) ontwikkeld zijn door universiteiten en bedrijven van over de hele wereld. Hierdoor is het mogelijk om snel (geavanceerde) analyses te bouwen.\n",
    "\n",
    "Voor deze workshop gaan we gebruik maken van de volgende pakketen: <a href=\"https://pandas.pydata.org\">pandas</a> en <a href=\"https://scikit-learn.org/stable/\">sci-kit learn</a>. Pandas is een pakket waarmee data ingeladen en bewerkt kan worden, sci-kit learn is een pakket die het mogelijk maakt machine learning algoritmen te ontwikkelen."
   ]
  },
  {
   "cell_type": "markdown",
   "metadata": {},
   "source": [
    "Tijdens deze workshop gaan jullie ook zelf code aanvullen en schrijven! De plekken in de code waar `...` staat mogen jullie zelf aanvullen om zo werkende code te maken."
   ]
  },
  {
   "cell_type": "markdown",
   "metadata": {},
   "source": [
    "Elk werkboek (notebook) is opgedeeld in blokken (cells) met tekst en blokken met code. Dubbelklik op een blok om deze te bewerken."
   ]
  },
  {
   "cell_type": "markdown",
   "metadata": {},
   "source": [
    "De code in een notebook-cell kan gestart worden door op de <i>play Run</i> <img src=\"http://www.pngall.com/wp-content/uploads/5/Black-Play-Button-PNG-Image.png\" width=\"6%\" height=\"6%\"> knop te drukken of met de sneltoest <i>shift+enter</i>. \n",
    "Probeer dit met het onderstaande stukje code door hier je naam in te vullen, en de code uit te voeren."
   ]
  },
  {
   "cell_type": "code",
   "execution_count": null,
   "metadata": {},
   "outputs": [],
   "source": [
    "print(\"Mijn naam is: ...\")"
   ]
  },
  {
   "cell_type": "markdown",
   "metadata": {},
   "source": [
    "Je ziet nu dat je naam op het scherm geprint is. \n",
    "Dit is de output van de code. \n",
    "Er is ook te zien dat er nu een nummer tussen de blokhaken voor de code staat. \n",
    "Dit geeft aan dat de code uitgevoerd is en houdt daarnaast bij in welke volgorde dit is gebeurt.\n",
    "Niet elke code geeft een output. \n",
    "Als je twijfelt of de code is uitgevoerd omdat er geen output gegenereerd wordt, kan je controleren of de code heeft gewerkt door te zoeken naar dit getal tussen de haken."
   ]
  },
  {
   "cell_type": "markdown",
   "metadata": {},
   "source": [
    "<h4><a name=\"opdracht1.1\"> Opdracht 1.1 packages inladen </a></h4>"
   ]
  },
  {
   "cell_type": "markdown",
   "metadata": {},
   "source": [
    "Om pakketten in te laden, moeten onderstaande regels gekopierd worden naar een nieuwe code-cell. Let op! Gebruik voor het kopiëren de sneltoetsen Ctrl+C, Ctrl+V. \n",
    "\n",
    "```python\n",
    "import pandas\n",
    "import sklearn\n",
    "import numpy\n",
    "import matplotlib.pyplot as plt\n",
    "```"
   ]
  },
  {
   "cell_type": "code",
   "execution_count": null,
   "metadata": {
    "scrolled": true
   },
   "outputs": [],
   "source": [
    "# zet hier de regels neer om de paketten in te laden\n"
   ]
  },
  {
   "cell_type": "markdown",
   "metadata": {},
   "source": [
    "<a href = \"#hint1.1\">Hint bij opdracht 1.1</a> (Alleen als je er niet uitkomt!)"
   ]
  },
  {
   "cell_type": "markdown",
   "metadata": {},
   "source": [
    "***"
   ]
  },
  {
   "cell_type": "markdown",
   "metadata": {},
   "source": [
    "<h4><a name=\"opdracht1.2\"> Opdracht 1.2 Data inladen </a></h4>"
   ]
  },
  {
   "cell_type": "markdown",
   "metadata": {},
   "source": [
    "Voor dit gedeelte van de workshop maken gaan jullie gebruik maken van de <i>'Wie is het?'</i>-dataset. Deze dataset is beschikbaar in de huidige directory (huidige map op de server). We gebruiken pandas om de data in te lezen. De volgende code moet gebruikt worden om de data in te lezen. \n",
    "\n",
    "```python\n",
    "var = pandas.read_excel(\"file.xlsx\") #waarbij \"file.xlsx\" vervangen moet worden door de bestandsnaam\n",
    "```\n",
    "\n",
    "We moeten er daarnaast voor zorgen dat de data opgeslagen wordt zodat deze gebruikt kan worden. In bovenstaand voorbeeld schrijven wij de data toe aan een variabele met de naam: `var`. Het bestand `dataset_wie_is_het_ministers.xlsx` schrijven we toe aan variabele `df`. Kopieer de regel met code, verander de variabele `var` en `\"file.xlsx\"` naar de juiste waardes en voeg deze in onderstaande cel toe:"
   ]
  },
  {
   "cell_type": "code",
   "execution_count": null,
   "metadata": {},
   "outputs": [],
   "source": [
    "#Plak hier de bovenstaande code om de data mee in te lezen en pas vervolgens de naam van het bestand en de variabele aan.\n"
   ]
  },
  {
   "cell_type": "markdown",
   "metadata": {},
   "source": [
    "<a href = \"#hint1.2\">Hint bij opdracht 1.2</a> (Alleen als je er niet uitkomt!)"
   ]
  },
  {
   "cell_type": "markdown",
   "metadata": {},
   "source": [
    "<h4><a name=\"opdracht1.3\"> Opdracht 1.3 Data bekijken </a></h4>"
   ]
  },
  {
   "cell_type": "markdown",
   "metadata": {},
   "source": [
    "Om snel te kunnen zien of de data goed ingeladen is kijken we naar de de eerste rijen van de dataset. In dit geval is de dataset niet zo groot. Bekijk eerst hoe groot de dataset is met behulp van `len(var)`. Bekijk vervolgens de ingelezen dataset middels de functie `head(1)`, gekoppeld aan de ingeleze data in `df`. Dit kan op de volgende manier: `var.head(1)`. Dus check eerst het aantal rijen en bekijk deze daarna:"
   ]
  },
  {
   "cell_type": "code",
   "execution_count": null,
   "metadata": {},
   "outputs": [],
   "source": [
    "len(df)"
   ]
  },
  {
   "cell_type": "code",
   "execution_count": null,
   "metadata": {},
   "outputs": [],
   "source": [
    "df.head(...)"
   ]
  },
  {
   "cell_type": "markdown",
   "metadata": {},
   "source": [
    "<a href = \"#hint1.3\">Hint bij opdracht 1.3</a> (Alleen als je er niet uitkomt!)"
   ]
  },
  {
   "cell_type": "markdown",
   "metadata": {},
   "source": [
    "***"
   ]
  },
  {
   "cell_type": "markdown",
   "metadata": {},
   "source": [
    "<h4><a name=\"opdracht1.4\"> Opdracht 1.4 Data prepareren </a></h4>"
   ]
  },
  {
   "cell_type": "markdown",
   "metadata": {},
   "source": [
    "Met de data in het script ingeladen, is het tijd om te kijken naar de data. Kijken betekent in dit geval dat we een aantal statistieken/kenmerken gaan bekijken. Omdat de data opgeslagen is in een pandas object, kunnen we informatie opvragen met de pandas functie `info()`. De functie kan aangeroepen worden door `var.info()` in de volgende cel te zetten, waarbij `var` de naam van de variabele is waarover we informatie willen zien. In ons geval is dat dus het net gemaakte dataframe `df`."
   ]
  },
  {
   "cell_type": "code",
   "execution_count": null,
   "metadata": {},
   "outputs": [],
   "source": [
    "df.info()"
   ]
  },
  {
   "cell_type": "markdown",
   "metadata": {},
   "source": [
    "Om straks een beslisboom te kunnen maken corresponderend met <i>Wie is het?</i>, splitsen we de inhoud van de kolommen van <i>Haarkleur</i>, <i>Kleur_das</i> en *Kleur_kleding* op, zodat elke haarkleur, kleur das en kleur kleding zijn eigen kolom krijgt. Vul in de cell hieronder `Haarkleur`, `Kleur_das` en `Kleur_kleding` in op de plek van `...`:"
   ]
  },
  {
   "cell_type": "code",
   "execution_count": null,
   "metadata": {},
   "outputs": [],
   "source": [
    "df = pandas.concat([df, pandas.get_dummies(df[['...', '...', '...']])], \n",
    "                   axis = 1)"
   ]
  },
  {
   "cell_type": "markdown",
   "metadata": {},
   "source": [
    "<a href = \"#hint1.4\">Hint bij opdracht 1.4</a> (Alleen als je er niet uitkomt!)"
   ]
  },
  {
   "cell_type": "markdown",
   "metadata": {},
   "source": [
    "Print de dataset opnieuw en bekijk wat er is veranderd:"
   ]
  },
  {
   "cell_type": "code",
   "execution_count": null,
   "metadata": {},
   "outputs": [],
   "source": [
    "pandas.set_option('display.max_columns', None) #Deze regel is nodig om alle kolommen te kunnen zien\n",
    "df.head(...)"
   ]
  },
  {
   "cell_type": "markdown",
   "metadata": {},
   "source": [
    "Aangezien de kolommen *haarkleur*, *Kleur_das* en *Kleur_kleding* nu overbodig zijn geworden (we hebben ze immers uitgesplits) verwijderen we deze."
   ]
  },
  {
   "cell_type": "code",
   "execution_count": null,
   "metadata": {},
   "outputs": [],
   "source": [
    "df.drop(['Haarkleur', 'Kleur_das', 'Kleur_kleding'], axis = 1, inplace = True)"
   ]
  },
  {
   "cell_type": "code",
   "execution_count": null,
   "metadata": {},
   "outputs": [],
   "source": [
    "df.head(...)"
   ]
  },
  {
   "cell_type": "markdown",
   "metadata": {},
   "source": [
    "We zijn bijna klaar met het prepareren. We hercoderen de niet-numerieke kolommen (behalve de kolom 'Naam') in een notatie met `0` en `1`, en sorteren de rijen alfabetisch op 'Naam'."
   ]
  },
  {
   "cell_type": "code",
   "execution_count": null,
   "metadata": {},
   "outputs": [],
   "source": [
    "from sklearn import preprocessing"
   ]
  },
  {
   "cell_type": "code",
   "execution_count": null,
   "metadata": {},
   "outputs": [],
   "source": [
    "for column in df.columns:\n",
    "    if df[column].dtype == 'object' and column != 'Naam':\n",
    "        le = preprocessing.LabelEncoder()   # Deze regel zorgt ervoor dat elke optie een 0 of 1 als waarde krijgt\n",
    "        df[column] = le.fit_transform(df[column])"
   ]
  },
  {
   "cell_type": "code",
   "execution_count": null,
   "metadata": {},
   "outputs": [],
   "source": [
    "df = df.sort_values(by = \"Naam\") # We sorteren de dataset op naam"
   ]
  },
  {
   "cell_type": "code",
   "execution_count": null,
   "metadata": {},
   "outputs": [],
   "source": [
    "df.reset_index(drop=True, inplace = True)"
   ]
  },
  {
   "cell_type": "markdown",
   "metadata": {},
   "source": [
    "In de cel hierboven hebben we de dataset van nieuwe index nummers voorzien, dit omdat de beslisboom die we later gaan maken afhankelijk is van de index nummer. Door `drop = True` mee te geven voorkomen we dat de oude index als kolom toegevoegd wordt, `inplace = True` zorgt ervoor dat de nieuwe index de oude index overschrijft."
   ]
  },
  {
   "cell_type": "code",
   "execution_count": null,
   "metadata": {},
   "outputs": [],
   "source": [
    "df.head(...)"
   ]
  },
  {
   "cell_type": "markdown",
   "metadata": {},
   "source": [
    "Laatste preparatie stap: we splitsen de data nu op in ons label (de naam, want die willen we 'raden' bij <i>Wie is het?</i>) en de overige kolommen (waarmee we willen gaan raden)."
   ]
  },
  {
   "cell_type": "code",
   "execution_count": null,
   "metadata": {},
   "outputs": [],
   "source": [
    "data  = df.iloc[:, 1:len(df.columns)]\n",
    "label = df.iloc[:, 0]"
   ]
  },
  {
   "cell_type": "markdown",
   "metadata": {},
   "source": [
    "<h4><a name=\"opdracht1.5\"> Opdracht 1.5 De eerste beslisboom </a></h4>"
   ]
  },
  {
   "cell_type": "markdown",
   "metadata": {},
   "source": [
    "<div style=\"text-align: center\"> <h1> Dan gaan we nu beginnen met het bouwen van: </h1> </div>"
   ]
  },
  {
   "cell_type": "markdown",
   "metadata": {},
   "source": [
    "<div style=\"text-align: center\"> <h1> Beslisbomen! </h1> </div>\n",
    "<div style=\"text-align: center\"> <img src=\"https://upload.wikimedia.org/wikipedia/commons/0/05/Scikit_learn_logo_small.svg\" width=\"30%\" height=\"30%\"> </div>"
   ]
  },
  {
   "cell_type": "markdown",
   "metadata": {},
   "source": [
    "We importeren de beslisboom functie van `sklearn`."
   ]
  },
  {
   "cell_type": "code",
   "execution_count": null,
   "metadata": {},
   "outputs": [],
   "source": [
    "from sklearn.tree import DecisionTreeClassifier, plot_tree\n",
    "print('The scikit-learn version is {}.'.format(sklearn.__version__))"
   ]
  },
  {
   "cell_type": "markdown",
   "metadata": {},
   "source": [
    "Vervolgens passen we deze functie toe op de data en visualiseren we het resultaat. Geen zorgen, straks komt nog iets meer toelichting over wat er achter de schermen gebeurd."
   ]
  },
  {
   "cell_type": "code",
   "execution_count": null,
   "metadata": {},
   "outputs": [],
   "source": [
    "clf = DecisionTreeClassifier(criterion = \"entropy\", random_state=None, splitter='best')"
   ]
  },
  {
   "cell_type": "code",
   "execution_count": null,
   "metadata": {},
   "outputs": [],
   "source": [
    "clf.fit(data, label)"
   ]
  },
  {
   "cell_type": "markdown",
   "metadata": {},
   "source": [
    "Met de code hieronder visualiseer je de beslisboom. Je kunt dubbelklikken om in te zoomen. <br>\n",
    "Kun je de visualisatie interpreteren? Komt de beslisboom overeen met de beslisboom die jullie bij 'wie is het?' hebben gemaakt? Wat is de openingsvraag die door het algoritme zal worden gesteld bij het spel?"
   ]
  },
  {
   "cell_type": "code",
   "execution_count": null,
   "metadata": {
    "scrolled": true
   },
   "outputs": [],
   "source": [
    "plt.figure(figsize = (52,25))\n",
    "plot_tree(clf, \n",
    "          class_names   = list(label), \n",
    "          feature_names = list(data.columns),\n",
    "          filled = True)\n",
    "#plt.savefig('wie_is_het.pdf', dpi = 600)\n",
    "plt.show()"
   ]
  },
  {
   "cell_type": "markdown",
   "metadata": {},
   "source": [
    "Is het visualiseren van je beslisboom gelukt?\n",
    "Haal dan het `#` voor de regel `#plt.savefig('wie_is_het.pdf', dpi = 600)` en voer de cell met code opnieuw uit.\n",
    "De afbeelding wordt dan opgeslagen.\n",
    "Je vindt de afbeelding in dezelfde map als het jupyter notebook waar je nu in werkt.\n",
    "*Stuur je beslisboom vervolgens op naar f.t.vink@minfin.nl*"
   ]
  },
  {
   "cell_type": "markdown",
   "metadata": {},
   "source": [
    "<h4><a name=\"Bonus\"> Bonus -- De wiskunde achter de beslisboom </a></h4>\n",
    "Het algoritme dat gebruikt is om de beslisboom te maken maakt gebruik van entropie.\n",
    "Wil je meer weten over hoe dit precies in zijn werk gaat? Dan vind je <a href=\"https://towardsdatascience.com/entropy-how-decision-trees-make-decisions-2946b9c18c8\">hier</a> een artikel over entropie bij beslisbomen."
   ]
  },
  {
   "cell_type": "markdown",
   "metadata": {},
   "source": [
    "## Workshop opslaan\n",
    "Wil je de code en resultaten van de workshop bewaren? Ga dan rechtsboven naar 'File' en selecteer hier 'Download as HTML'. De workshop wordt dan als een bestand op je computer opgeslagen en kan vervolgens met je webbrowser geopend worden. "
   ]
  },
  {
   "cell_type": "markdown",
   "metadata": {},
   "source": [
    "\n",
    "<br>\n",
    "<br>\n",
    "<br>\n",
    "<br>\n",
    "<br>\n",
    "<br>\n",
    "<br>\n",
    "<br>\n",
    "<br>\n",
    "<br>\n",
    "<br>\n",
    "<br>\n",
    "<br>\n",
    "<br>\n",
    "<br>\n",
    "<br>\n",
    "<br>\n",
    "<br>\n",
    "<br>\n",
    "<br>\n",
    "<br>\n",
    "<br>\n",
    "<br>\n",
    "<br>\n",
    "<br>\n",
    "<br>\n",
    "<br>\n",
    "<br>\n",
    "<br>\n",
    "<br>\n",
    "<br>\n",
    "<br>\n",
    "<br>\n",
    "<br>\n",
    "<br>\n",
    "<br>\n",
    "<br>\n",
    "<br>\n",
    "<br>\n",
    "<br>\n",
    "<br>\n",
    "<br>\n",
    "<br>\n",
    "<br>\n",
    "<br>\n",
    "<br>\n",
    "<br>\n",
    "<br>\n",
    "<br>\n",
    "<br>\n",
    "<br>\n",
    "<br>\n",
    "<br>\n",
    "<br>\n",
    "<br>\n",
    "<br>\n",
    "<br>\n",
    "<br>\n",
    "<br>\n",
    "<br>"
   ]
  },
  {
   "cell_type": "markdown",
   "metadata": {},
   "source": [
    "***\n",
    "***"
   ]
  },
  {
   "cell_type": "markdown",
   "metadata": {},
   "source": [
    "<div style=\"text-align: center\"> <h3> Hints en oplossingen </h3> </div>"
   ]
  },
  {
   "cell_type": "markdown",
   "metadata": {},
   "source": [
    "***\n",
    "***"
   ]
  },
  {
   "cell_type": "markdown",
   "metadata": {},
   "source": [
    "Hieronder vindt je de oplossingen en hints voor dit werkboek. Raadpleeg deze alleen als je er niet uitkomt!\n",
    "\n",
    "\n",
    "\n",
    "\n",
    "\n"
   ]
  },
  {
   "cell_type": "markdown",
   "metadata": {},
   "source": [
    "<a name=\"hint1.1\"> Opdracht 1.1: Packages inladen </a>"
   ]
  },
  {
   "cell_type": "code",
   "execution_count": null,
   "metadata": {},
   "outputs": [],
   "source": [
    "import pandas\n",
    "import numpy\n",
    "import sklearn\n",
    "import matplotlib.pyplot as plt"
   ]
  },
  {
   "cell_type": "markdown",
   "metadata": {},
   "source": [
    "<a href = \"#opdracht1.1\">Terug naar opdracht 1.1</a>\n",
    "<br>\n",
    "<br>\n",
    "<br>\n",
    "<br>\n",
    "<br>\n",
    "<br>\n",
    "<br>\n",
    "<br>\n",
    "<br>\n",
    "<br>\n",
    "<br>\n",
    "<br>\n",
    "<br>\n",
    "<br>\n",
    "<br>\n",
    "<br>\n",
    "<br>\n",
    "<br>\n",
    "<br>\n",
    "<br>\n",
    "<br>\n",
    "<br>\n",
    "<br>\n",
    "<br>\n",
    "<br>\n",
    "<br>\n",
    "<br>\n",
    "<br>\n",
    "<br>\n",
    "<br>"
   ]
  },
  {
   "cell_type": "markdown",
   "metadata": {},
   "source": [
    "***"
   ]
  },
  {
   "cell_type": "markdown",
   "metadata": {},
   "source": [
    "<a name=\"hint1.2\"> Opdracht 1.2: data inladen </a>"
   ]
  },
  {
   "cell_type": "code",
   "execution_count": null,
   "metadata": {},
   "outputs": [],
   "source": [
    "df = pandas.read_excel(\"dataset_wie_is_het_ministers.xlsx\")"
   ]
  },
  {
   "cell_type": "markdown",
   "metadata": {},
   "source": [
    "<a href = \"#opdracht1.2\">Terug naar opdracht 1.2</a>\n",
    "<br>\n",
    "<br>\n",
    "<br>\n",
    "<br>\n",
    "<br>\n",
    "<br>\n",
    "<br>\n",
    "<br>\n",
    "<br>\n",
    "<br>\n",
    "<br>\n",
    "<br>\n",
    "<br>\n",
    "<br>\n",
    "<br>\n",
    "<br>\n",
    "<br>\n",
    "<br>\n",
    "<br>\n",
    "<br>\n",
    "<br>\n",
    "<br>\n",
    "<br>\n",
    "<br>\n",
    "<br>\n",
    "<br>\n",
    "<br>\n",
    "<br>\n",
    "<br>\n",
    "<br>"
   ]
  },
  {
   "cell_type": "markdown",
   "metadata": {},
   "source": [
    "<a name=\"hint1.3\"> Opdracht 1.3: data bekijken </a>"
   ]
  },
  {
   "cell_type": "code",
   "execution_count": null,
   "metadata": {},
   "outputs": [],
   "source": [
    "len(df)\n",
    "df.head(len(df)) "
   ]
  },
  {
   "cell_type": "markdown",
   "metadata": {},
   "source": [
    "Of `df.head(18)` werkt ook."
   ]
  },
  {
   "cell_type": "markdown",
   "metadata": {},
   "source": [
    "<a href = \"#opdracht1.3\">Terug naar opdracht 1.3</a>\n",
    "<br>\n",
    "<br>\n",
    "<br>\n",
    "<br>\n",
    "<br>\n",
    "<br>\n",
    "<br>\n",
    "<br>\n",
    "<br>\n",
    "<br>\n",
    "<br>\n",
    "<br>\n",
    "<br>\n",
    "<br>\n",
    "<br>\n",
    "<br>\n",
    "<br>\n",
    "<br>\n",
    "<br>\n",
    "<br>\n",
    "<br>\n",
    "<br>\n",
    "<br>\n",
    "<br>\n",
    "<br>\n",
    "<br>\n",
    "<br>\n",
    "<br>\n",
    "<br>\n",
    "<br>"
   ]
  },
  {
   "cell_type": "markdown",
   "metadata": {},
   "source": [
    "<a name=\"hint1.4\"> Opdracht 1.4: data opschonen </a>"
   ]
  },
  {
   "cell_type": "code",
   "execution_count": null,
   "metadata": {},
   "outputs": [],
   "source": [
    "df = pandas.concat([df, pandas.get_dummies(df[['Haarkleur', 'Kleur_das', 'Kleur_kleding']])], \n",
    "                   axis = 1)"
   ]
  },
  {
   "cell_type": "markdown",
   "metadata": {},
   "source": [
    "<a href = \"#opdracht1.4\">Terug naar opdracht 1.4</a>\n",
    "<br>\n",
    "<br>\n",
    "<br>\n",
    "<br>\n",
    "<br>\n",
    "<br>\n",
    "<br>\n",
    "<br>\n",
    "<br>\n",
    "<br>\n",
    "<br>\n",
    "<br>\n",
    "<br>\n",
    "<br>\n",
    "<br>\n",
    "<br>\n",
    "<br>\n",
    "<br>\n",
    "<br>\n",
    "<br>\n",
    "<br>\n",
    "<br>\n",
    "<br>\n",
    "<br>\n",
    "<br>\n",
    "<br>\n",
    "<br>\n",
    "<br>\n",
    "<br>\n",
    "<br>"
   ]
  }
 ],
 "metadata": {
  "kernelspec": {
   "display_name": "Python 3",
   "language": "python",
   "name": "python3"
  },
  "language_info": {
   "codemirror_mode": {
    "name": "ipython",
    "version": 3
   },
   "file_extension": ".py",
   "mimetype": "text/x-python",
   "name": "python",
   "nbconvert_exporter": "python",
   "pygments_lexer": "ipython3",
   "version": "3.6.5"
  }
 },
 "nbformat": 4,
 "nbformat_minor": 2
}
