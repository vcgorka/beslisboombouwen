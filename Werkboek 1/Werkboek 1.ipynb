{
 "cells": [
  {
   "cell_type": "markdown",
   "metadata": {
    "id": "9dxqHKrHRiuH"
   },
   "source": [
    "<div style=\"text-align: center\"> <h1> Beslisboombouwen.nl </h1> </div>\n",
    "<div style=\"text-align: center\"> <h2> werkboek 1 - <i> Intro en 'Wie is het' </i> </h2> </div>\n",
    "\n",
    "\n",
    "\n"
   ]
  },
  {
   "cell_type": "markdown",
   "metadata": {
    "id": "mNlrdmTVRiuL"
   },
   "source": [
    "<img src=\"https://www.python.org/static/img/python-logo@2x.png\" />\n",
    "\n",
    "\n",
    "Tijdens deze workshop maken we gebruik van een <a href=\"https://www.python.org\">Python</a> omgeving. Python is een programeertaal ontworpen en ontwikkeld  door Guido van Rossum (Centrum voor Wiskunde en Informatica in Amsterdam). Het voordeel van de opensource programmeertalen Python en R is dat veel aanvullende pakketen (packages) ontwikkeld zijn door universiteiten en bedrijven van over de hele wereld. Hierdoor is het mogelijk om snel (geavanceerde) analyses te bouwen.\n",
    "\n",
    "Voor deze workshop gaan we gebruik maken van de volgende pakketen: <a href=\"https://pandas.pydata.org\">pandas</a> en <a href=\"https://scikit-learn.org/stable/\">sci-kit learn</a>. Pandas is een pakket waarmee data ingeladen en bewerkt kan worden, sci-kit learn is een pakket die het mogelijk maakt machine learning algoritmen te ontwikkelen."
   ]
  },
  {
   "cell_type": "markdown",
   "metadata": {
    "id": "DZ5ZmUy1RiuM"
   },
   "source": [
    "Tijdens deze workshop gaan jullie ook zelf code aanvullen en schrijven! De plekken in de code waar `...` staat mogen jullie zelf aanvullen om zo werkende code te maken."
   ]
  },
  {
   "cell_type": "markdown",
   "metadata": {
    "id": "AmsNmlhBRiuN"
   },
   "source": [
    "Elk werkboek (notebook) is opgedeeld in blokken (cells) met tekst en blokken met code. Dubbelklik op een blok om deze te bewerken."
   ]
  },
  {
   "cell_type": "markdown",
   "metadata": {
    "id": "8YhSu9ZMRiuN"
   },
   "source": [
    "De code in een notebook-cell kan gestart worden door op de <i>play Run</i> <img src=\"http://www.pngall.com/wp-content/uploads/5/Black-Play-Button-PNG-Image.png\" width=\"6%\" height=\"6%\"> knop te drukken of met de sneltoest <i>shift+enter</i>. \n",
    "Probeer dit met het onderstaande stukje code door hier je naam in te vullen, en de code uit te voeren."
   ]
  },
  {
   "cell_type": "code",
   "execution_count": null,
   "metadata": {
    "id": "g-sf_p8JRiuO"
   },
   "outputs": [],
   "source": [
    "print(\"Mijn naam is: ...\")"
   ]
  },
  {
   "cell_type": "markdown",
   "metadata": {
    "id": "1NnvlxjbRiuP"
   },
   "source": [
    "Je ziet nu dat je naam op het scherm geprint is. \n",
    "Dit is de output van de code. \n",
    "Er is ook te zien dat er nu een nummer tussen de blokhaken voor de code staat. \n",
    "Dit geeft aan dat de code uitgevoerd is en houdt daarnaast bij in welke volgorde dit is gebeurt.\n",
    "Niet elke code geeft een output. \n",
    "Als je twijfelt of de code is uitgevoerd omdat er geen output gegenereerd wordt, kan je controleren of de code heeft gewerkt door te zoeken naar dit getal tussen de haken."
   ]
  },
  {
   "cell_type": "markdown",
   "metadata": {
    "id": "RP3ta4ZkRiuQ"
   },
   "source": [
    "<h4><a name=\"opdracht1.1\"> Opdracht 1.1 packages inladen </a></h4>"
   ]
  },
  {
   "cell_type": "markdown",
   "metadata": {
    "id": "I1t7RzaBRiuQ"
   },
   "source": [
    "Om pakketten in te laden, moeten onderstaande regels gekopierd worden naar een nieuwe code-cell. Let op! Gebruik voor het kopiëren de sneltoetsen Ctrl+C, Ctrl+V. \n",
    "\n",
    "```python\n",
    "import pandas\n",
    "import sklearn\n",
    "import numpy\n",
    "import matplotlib.pyplot as plt\n",
    "```"
   ]
  },
  {
   "cell_type": "code",
   "execution_count": null,
   "metadata": {
    "id": "3vnrUoc4RiuR",
    "scrolled": true
   },
   "outputs": [],
   "source": [
    "# zet hier de regels neer om de paketten in te laden\n"
   ]
  },
  {
   "cell_type": "markdown",
   "metadata": {
    "id": "K_7o25oLRiuS"
   },
   "source": [
    "<a href = \"#hint1.1\">Hint bij opdracht 1.1</a> (Alleen als je er niet uitkomt!)"
   ]
  },
  {
   "cell_type": "markdown",
   "metadata": {
    "id": "6NpqOxDLRiuS"
   },
   "source": [
    "***"
   ]
  },
  {
   "cell_type": "markdown",
   "metadata": {
    "id": "XCF6At3pRiuS"
   },
   "source": [
    "<h4><a name=\"opdracht1.2\"> Opdracht 1.2 Data inladen </a></h4>"
   ]
  },
  {
   "cell_type": "markdown",
   "metadata": {
    "id": "nBcMD_gTRiuT"
   },
   "source": [
    "Voor dit gedeelte van de workshop maken gaan jullie gebruik maken van de <i>'Wie is het?'</i>-dataset. Deze dataset is beschikbaar in de huidige directory (huidige map op de server). We gebruiken pandas om de data in te lezen. De volgende code moet gebruikt worden om de data in te lezen. \n",
    "\n",
    "```python\n",
    "df = pandas.read_excel(\"file.csv\") #waarbij \"file.csv\" vervangen moet worden door de bestandsnaam\n",
    "```\n",
    "\n",
    "We moeten er daarnaast voor zorgen dat de data opgeslagen wordt zodat deze gebruikt kan worden. In bovenstaand voorbeeld schrijven wij de data toe aan een variabele met de naam: `df`. We zullen hier nu het bestand `dataset_wie_is_het_ministers.csv` aan toeschrijven. Kopieer de regel met code, verander de variabele `\"file.csv\"` naar de juiste waardes en voeg deze in onderstaande cel toe:"
   ]
  },
  {
   "cell_type": "code",
   "execution_count": null,
   "metadata": {
    "id": "6QCfOZxZRiuT"
   },
   "outputs": [],
   "source": [
    "#Plak hier de bovenstaande code om de data mee in te lezen en pas vervolgens de naam van het bestand en de variabele aan.\n"
   ]
  },
  {
   "cell_type": "markdown",
   "metadata": {
    "id": "AnUWMOCTRiuU"
   },
   "source": [
    "<a href = \"#hint1.2\">Hint bij opdracht 1.2</a> (Alleen als je er niet uitkomt!)"
   ]
  },
  {
   "cell_type": "markdown",
   "metadata": {
    "id": "hdeHqWBvRiuU"
   },
   "source": [
    "<h4><a name=\"opdracht1.3\"> Opdracht 1.3 Data bekijken </a></h4>"
   ]
  },
  {
   "cell_type": "markdown",
   "metadata": {
    "id": "9qtnWzVhRiuU"
   },
   "source": [
    "Om snel te kunnen zien of de data goed ingeladen is kijken we naar de de eerste rijen van de dataset. In dit geval is de dataset niet zo groot. Bekijk eerst hoe groot de dataset is met behulp van `len(df)`. Bekijk vervolgens de ingelezen dataset middels de functie `head(1)`, gekoppeld aan de ingeleze data in `df`. Dit kan op de volgende manier: `df.head(1)`. Dus check eerst het aantal rijen en bekijk deze daarna:"
   ]
  },
  {
   "cell_type": "code",
   "execution_count": null,
   "metadata": {
    "id": "wfNeqWhORiuU"
   },
   "outputs": [],
   "source": [
    "len(df)"
   ]
  },
  {
   "cell_type": "code",
   "execution_count": null,
   "metadata": {
    "id": "O_PYE69kRiuV"
   },
   "outputs": [],
   "source": [
    "df.head(...)"
   ]
  },
  {
   "cell_type": "markdown",
   "metadata": {
    "id": "2hQDmi1MRiuV"
   },
   "source": [
    "<a href = \"#hint1.3\">Hint bij opdracht 1.3</a> (Alleen als je er niet uitkomt!)"
   ]
  },
  {
   "cell_type": "markdown",
   "metadata": {
    "id": "lk9P6SqZRiuV"
   },
   "source": [
    "***"
   ]
  },
  {
   "cell_type": "markdown",
   "metadata": {
    "id": "UnhPi5u1RiuV"
   },
   "source": [
    "<h4><a name=\"opdracht1.4\"> Opdracht 1.4 Data prepareren </a></h4>"
   ]
  },
  {
   "cell_type": "markdown",
   "metadata": {
    "id": "3oL2YhGnRiuW"
   },
   "source": [
    "Met de data in het script ingeladen, is het tijd om te kijken naar de data. Kijken betekent in dit geval dat we een aantal statistieken/kenmerken gaan bekijken. Omdat de data opgeslagen is in een pandas object, kunnen we informatie opvragen met de pandas functie `info()`. De functie kan aangeroepen worden door `df.info()` in de volgende cel te zetten, waarbij `df` de naam van de variabele is waarover we informatie willen zien."
   ]
  },
  {
   "cell_type": "code",
   "execution_count": null,
   "metadata": {
    "id": "OTNEuYozRiuW"
   },
   "outputs": [],
   "source": [
    "df.info()"
   ]
  },
  {
   "cell_type": "markdown",
   "metadata": {
    "id": "nchXv-BdRiuW"
   },
   "source": [
    "Om straks een beslisboom te kunnen maken corresponderend met <i>Wie is het?</i>, splitsen we de inhoud van de kolommen van <i>Haarkleur</i>, <i>Kleur_das</i> en *Kleur_kleding* op, zodat elke haarkleur, kleur das en kleur kleding zijn eigen kolom krijgt. Vul in de cell hieronder `Haarkleur`, `Kleur_das` en `Kleur_kleding` in op de plek van `...`:"
   ]
  },
  {
   "cell_type": "code",
   "execution_count": null,
   "metadata": {
    "id": "8jaTiY2WRiuW"
   },
   "outputs": [],
   "source": [
    "df = pandas.concat([df, pandas.get_dummies(df[['...', '...', '...']])], \n",
    "                   axis = 1)"
   ]
  },
  {
   "cell_type": "markdown",
   "metadata": {
    "id": "2u9GKo9LRiuW"
   },
   "source": [
    "<a href = \"#hint1.4\">Hint bij opdracht 1.4</a> (Alleen als je er niet uitkomt!)"
   ]
  },
  {
   "cell_type": "markdown",
   "metadata": {
    "id": "ffUETTaGRiuX"
   },
   "source": [
    "Print de dataset opnieuw en bekijk wat er is veranderd:"
   ]
  },
  {
   "cell_type": "code",
   "execution_count": null,
   "metadata": {
    "id": "FWRb4r-9RiuX"
   },
   "outputs": [],
   "source": [
    "pandas.set_option('display.max_columns', None) #Deze regel is nodig om alle kolommen te kunnen zien\n",
    "df.head(...)"
   ]
  },
  {
   "cell_type": "markdown",
   "metadata": {
    "id": "TILOJo_vRiuX"
   },
   "source": [
    "Aangezien de kolommen *haarkleur*, *Kleur_das* en *Kleur_kleding* nu overbodig zijn geworden (we hebben ze immers uitgesplits) verwijderen we deze."
   ]
  },
  {
   "cell_type": "code",
   "execution_count": null,
   "metadata": {
    "id": "Sm_q5jnURiuX"
   },
   "outputs": [],
   "source": [
    "df.drop(['Haarkleur', 'Kleur_das', 'Kleur_kleding'], axis = 1, inplace = True)"
   ]
  },
  {
   "cell_type": "code",
   "execution_count": null,
   "metadata": {
    "id": "yj53ex8vRiuX"
   },
   "outputs": [],
   "source": [
    "df.head(...)"
   ]
  },
  {
   "cell_type": "markdown",
   "metadata": {
    "id": "rr849-y1RiuY"
   },
   "source": [
    "We zijn bijna klaar met het prepareren. We hercoderen de niet-numerieke kolommen (behalve de kolom 'Naam') in een notatie met `0` en `1`, en sorteren de rijen alfabetisch op 'Naam'."
   ]
  },
  {
   "cell_type": "code",
   "execution_count": null,
   "metadata": {
    "id": "I4K34O6kRiuY"
   },
   "outputs": [],
   "source": [
    "from sklearn import preprocessing"
   ]
  },
  {
   "cell_type": "code",
   "execution_count": null,
   "metadata": {
    "id": "Sringvk9RiuY"
   },
   "outputs": [],
   "source": [
    "for column in df.columns:\n",
    "    if df[column].dtype == 'object' and column != 'Naam':\n",
    "        le = preprocessing.LabelEncoder()   # Deze regel zorgt ervoor dat elke optie een 0 of 1 als waarde krijgt\n",
    "        df[column] = le.fit_transform(df[column])"
   ]
  },
  {
   "cell_type": "code",
   "execution_count": null,
   "metadata": {
    "id": "fgRh9ZmtRiuY"
   },
   "outputs": [],
   "source": [
    "df = df.sort_values(by = \"Naam\") # We sorteren de dataset op naam"
   ]
  },
  {
   "cell_type": "code",
   "execution_count": null,
   "metadata": {
    "id": "0OVAAi6oRiuY"
   },
   "outputs": [],
   "source": [
    "df.reset_index(drop=True, inplace = True)"
   ]
  },
  {
   "cell_type": "markdown",
   "metadata": {
    "id": "3av4GWp8RiuY"
   },
   "source": [
    "In de cel hierboven hebben we de dataset van nieuwe index nummers voorzien, dit omdat de beslisboom die we later gaan maken afhankelijk is van de index nummer. Door `drop = True` mee te geven voorkomen we dat de oude index als kolom toegevoegd wordt, `inplace = True` zorgt ervoor dat de nieuwe index de oude index overschrijft."
   ]
  },
  {
   "cell_type": "code",
   "execution_count": null,
   "metadata": {
    "id": "U0AHqfkTRiuZ"
   },
   "outputs": [],
   "source": [
    "df.head(...)"
   ]
  },
  {
   "cell_type": "markdown",
   "metadata": {
    "id": "Tok4Gr5rRiuZ"
   },
   "source": [
    "Laatste preparatie stap: we splitsen de data nu op in ons label (de naam, want die willen we 'raden' bij <i>Wie is het?</i>) en de overige kolommen (waarmee we willen gaan raden)."
   ]
  },
  {
   "cell_type": "code",
   "execution_count": null,
   "metadata": {
    "id": "EODUDhM7RiuZ"
   },
   "outputs": [],
   "source": [
    "data  = df.iloc[:, 1:len(df.columns)]\n",
    "label = df.iloc[:, 0]"
   ]
  },
  {
   "cell_type": "markdown",
   "metadata": {
    "id": "2tLmIHn8RiuZ"
   },
   "source": [
    "<h4><a name=\"opdracht1.5\"> Opdracht 1.5 De eerste beslisboom </a></h4>"
   ]
  },
  {
   "cell_type": "markdown",
   "metadata": {
    "id": "LI_e-rzjRiuZ"
   },
   "source": [
    "<div style=\"text-align: center\"> <h1> Dan gaan we nu beginnen met het bouwen van: </h1> </div>"
   ]
  },
  {
   "cell_type": "markdown",
   "metadata": {
    "id": "rc1IZ8xlRiuZ"
   },
   "source": [
    "<div style=\"text-align: center\"> <h1> Beslisbomen! </h1> </div>\n",
    "<div style=\"text-align: center\"> <img src=\"https://upload.wikimedia.org/wikipedia/commons/0/05/Scikit_learn_logo_small.svg\" width=\"30%\" height=\"30%\"> </div>"
   ]
  },
  {
   "cell_type": "markdown",
   "metadata": {
    "id": "53Kx4LrwRiua"
   },
   "source": [
    "We importeren de beslisboom functie van `sklearn`."
   ]
  },
  {
   "cell_type": "code",
   "execution_count": null,
   "metadata": {
    "id": "4gsmMuP7Riua"
   },
   "outputs": [],
   "source": [
    "from sklearn.tree import DecisionTreeClassifier, plot_tree\n",
    "print('The scikit-learn version is {}.'.format(sklearn.__version__))"
   ]
  },
  {
   "cell_type": "markdown",
   "metadata": {
    "id": "TR77mXMWRiua"
   },
   "source": [
    "Vervolgens passen we deze functie toe op de data en visualiseren we het resultaat. Geen zorgen, straks komt nog iets meer toelichting over wat er achter de schermen gebeurd."
   ]
  },
  {
   "cell_type": "code",
   "execution_count": null,
   "metadata": {
    "id": "BnL-irEIRiua"
   },
   "outputs": [],
   "source": [
    "clf = DecisionTreeClassifier(criterion = \"entropy\", random_state=None, splitter='best')"
   ]
  },
  {
   "cell_type": "code",
   "execution_count": null,
   "metadata": {
    "id": "Gy0veGj0Riua"
   },
   "outputs": [],
   "source": [
    "clf.fit(data, label)"
   ]
  },
  {
   "cell_type": "markdown",
   "metadata": {
    "id": "oai5FcJ_Riua"
   },
   "source": [
    "Met de code hieronder visualiseer je de beslisboom. Je kunt dubbelklikken om in te zoomen. <br>\n",
    "Kun je de visualisatie interpreteren? Komt de beslisboom overeen met de beslisboom die jullie bij 'wie is het?' hebben gemaakt? Wat is de openingsvraag die door het algoritme zal worden gesteld bij het spel?"
   ]
  },
  {
   "cell_type": "code",
   "execution_count": null,
   "metadata": {
    "id": "qZsbt5ufRiua",
    "scrolled": true
   },
   "outputs": [],
   "source": [
    "plt.figure(figsize = (52,25))\n",
    "plot_tree(clf, \n",
    "          class_names   = list(label), \n",
    "          feature_names = list(data.columns),\n",
    "          filled = True)\n",
    "#plt.savefig('wie_is_het.pdf', dpi = 600)\n",
    "plt.show()"
   ]
  },
  {
   "cell_type": "markdown",
   "metadata": {
    "id": "1UWQXvkBRiub"
   },
   "source": [
    "Is het visualiseren van je beslisboom gelukt?\n",
    "Haal dan het `#` voor de regel `#plt.savefig('wie_is_het.pdf', dpi = 600)` en voer de cell met code opnieuw uit.\n",
    "De afbeelding wordt dan opgeslagen.\n",
    "Je vindt de afbeelding in dezelfde map als het jupyter notebook waar je nu in werkt.\n"
   ]
  },
  {
   "cell_type": "markdown",
   "metadata": {
    "id": "6NBcBY23Riub"
   },
   "source": [
    "<h4><a name=\"Bonus\"> Bonus -- De wiskunde achter de beslisboom </a></h4>\n",
    "Het algoritme dat gebruikt is om de beslisboom te maken maakt gebruik van entropie.\n",
    "Wil je meer weten over hoe dit precies in zijn werk gaat? Dan vind je <a href=\"https://towardsdatascience.com/entropy-how-decision-trees-make-decisions-2946b9c18c8\">hier</a> een artikel over entropie bij beslisbomen."
   ]
  },
  {
   "cell_type": "markdown",
   "metadata": {
    "id": "iI-lR2UsRiub"
   },
   "source": [
    "## Workshop opslaan\n",
    "Wil je de code en resultaten van de workshop bewaren? Ga dan rechtsboven naar 'File' en selecteer hier 'Download as HTML'. De workshop wordt dan als een bestand op je computer opgeslagen en kan vervolgens met je webbrowser geopend worden. "
   ]
  },
  {
   "cell_type": "markdown",
   "metadata": {
    "id": "2qmthLT8Riub"
   },
   "source": [
    "\n",
    "<br>\n",
    "<br>\n",
    "<br>\n",
    "<br>\n",
    "<br>\n",
    "<br>\n",
    "<br>\n",
    "<br>\n",
    "<br>\n",
    "<br>\n",
    "<br>\n",
    "<br>\n",
    "<br>\n",
    "<br>\n",
    "<br>\n",
    "<br>\n",
    "<br>\n",
    "<br>\n",
    "<br>\n",
    "<br>\n",
    "<br>\n",
    "<br>\n",
    "<br>\n",
    "<br>\n",
    "<br>\n",
    "<br>\n",
    "<br>\n",
    "<br>\n",
    "<br>\n",
    "<br>\n",
    "<br>\n",
    "<br>\n",
    "<br>\n",
    "<br>\n",
    "<br>\n",
    "<br>\n",
    "<br>\n",
    "<br>\n",
    "<br>\n",
    "<br>\n",
    "<br>\n",
    "<br>\n",
    "<br>\n",
    "<br>\n",
    "<br>\n",
    "<br>\n",
    "<br>\n",
    "<br>\n",
    "<br>\n",
    "<br>\n",
    "<br>\n",
    "<br>\n",
    "<br>\n",
    "<br>\n",
    "<br>\n",
    "<br>\n",
    "<br>\n",
    "<br>\n",
    "<br>\n",
    "<br>"
   ]
  },
  {
   "cell_type": "markdown",
   "metadata": {
    "id": "PlRRVmf3Riub"
   },
   "source": [
    "***\n",
    "***"
   ]
  },
  {
   "cell_type": "markdown",
   "metadata": {
    "id": "KfD4cVFaRiuc"
   },
   "source": [
    "<div style=\"text-align: center\"> <h3> Hints en oplossingen </h3> </div>"
   ]
  },
  {
   "cell_type": "markdown",
   "metadata": {
    "id": "B-Xgu7DwRiuc"
   },
   "source": [
    "***\n",
    "***"
   ]
  },
  {
   "cell_type": "markdown",
   "metadata": {
    "id": "10g14ivrRiuc"
   },
   "source": [
    "Hieronder vindt je de oplossingen en hints voor dit werkboek. Raadpleeg deze alleen als je er niet uitkomt!\n",
    "\n",
    "\n",
    "\n",
    "\n",
    "\n"
   ]
  },
  {
   "cell_type": "markdown",
   "metadata": {
    "id": "DVS5sgCERiuc"
   },
   "source": [
    "<a name=\"hint1.1\"> Opdracht 1.1: Packages inladen </a>"
   ]
  },
  {
   "cell_type": "code",
   "execution_count": null,
   "metadata": {
    "id": "27OHXtA-Riuc"
   },
   "outputs": [],
   "source": [
    "import pandas\n",
    "import numpy\n",
    "import sklearn\n",
    "import matplotlib.pyplot as plt"
   ]
  },
  {
   "cell_type": "markdown",
   "metadata": {
    "id": "OVD7N-gKRiuc"
   },
   "source": [
    "<a href = \"#opdracht1.1\">Terug naar opdracht 1.1</a>\n",
    "<br>\n",
    "<br>\n",
    "<br>\n",
    "<br>\n",
    "<br>\n",
    "<br>\n",
    "<br>\n",
    "<br>\n",
    "<br>\n",
    "<br>\n",
    "<br>\n",
    "<br>\n",
    "<br>\n",
    "<br>\n",
    "<br>\n",
    "<br>\n",
    "<br>\n",
    "<br>\n",
    "<br>\n",
    "<br>\n",
    "<br>\n",
    "<br>\n",
    "<br>\n",
    "<br>\n",
    "<br>\n",
    "<br>\n",
    "<br>\n",
    "<br>\n",
    "<br>\n",
    "<br>"
   ]
  },
  {
   "cell_type": "markdown",
   "metadata": {
    "id": "H_sOiJzcRiuc"
   },
   "source": [
    "***"
   ]
  },
  {
   "cell_type": "markdown",
   "metadata": {
    "id": "86aOQuSDRiud"
   },
   "source": [
    "<a name=\"hint1.2\"> Opdracht 1.2: data inladen </a>"
   ]
  },
  {
   "cell_type": "code",
   "execution_count": null,
   "metadata": {
    "id": "MpW9KY4qRiud"
   },
   "outputs": [],
   "source": [
    "df = pandas.read_excel(\"dataset_wie_is_het_ministers.xlsx\")"
   ]
  },
  {
   "cell_type": "markdown",
   "metadata": {
    "id": "T6Sg6CYKRiud"
   },
   "source": [
    "<a href = \"#opdracht1.2\">Terug naar opdracht 1.2</a>\n",
    "<br>\n",
    "<br>\n",
    "<br>\n",
    "<br>\n",
    "<br>\n",
    "<br>\n",
    "<br>\n",
    "<br>\n",
    "<br>\n",
    "<br>\n",
    "<br>\n",
    "<br>\n",
    "<br>\n",
    "<br>\n",
    "<br>\n",
    "<br>\n",
    "<br>\n",
    "<br>\n",
    "<br>\n",
    "<br>\n",
    "<br>\n",
    "<br>\n",
    "<br>\n",
    "<br>\n",
    "<br>\n",
    "<br>\n",
    "<br>\n",
    "<br>\n",
    "<br>\n",
    "<br>"
   ]
  },
  {
   "cell_type": "markdown",
   "metadata": {
    "id": "lJaVGK9lRiud"
   },
   "source": [
    "<a name=\"hint1.3\"> Opdracht 1.3: data bekijken </a>"
   ]
  },
  {
   "cell_type": "code",
   "execution_count": null,
   "metadata": {
    "id": "8boAYGD_Riud"
   },
   "outputs": [],
   "source": [
    "len(df)\n",
    "df.head(len(df)) "
   ]
  },
  {
   "cell_type": "markdown",
   "metadata": {
    "id": "w4E8jRXbRiud"
   },
   "source": [
    "Of `df.head(18)` werkt ook."
   ]
  },
  {
   "cell_type": "markdown",
   "metadata": {
    "id": "6a9V9fqdRiud"
   },
   "source": [
    "<a href = \"#opdracht1.3\">Terug naar opdracht 1.3</a>\n",
    "<br>\n",
    "<br>\n",
    "<br>\n",
    "<br>\n",
    "<br>\n",
    "<br>\n",
    "<br>\n",
    "<br>\n",
    "<br>\n",
    "<br>\n",
    "<br>\n",
    "<br>\n",
    "<br>\n",
    "<br>\n",
    "<br>\n",
    "<br>\n",
    "<br>\n",
    "<br>\n",
    "<br>\n",
    "<br>\n",
    "<br>\n",
    "<br>\n",
    "<br>\n",
    "<br>\n",
    "<br>\n",
    "<br>\n",
    "<br>\n",
    "<br>\n",
    "<br>\n",
    "<br>"
   ]
  },
  {
   "cell_type": "markdown",
   "metadata": {
    "id": "A3qbGpzpRiue"
   },
   "source": [
    "<a name=\"hint1.4\"> Opdracht 1.4: data opschonen </a>"
   ]
  },
  {
   "cell_type": "code",
   "execution_count": null,
   "metadata": {
    "id": "KIdT5ZQVRiue"
   },
   "outputs": [],
   "source": [
    "df = pandas.concat([df, pandas.get_dummies(df[['Haarkleur', 'Kleur_das', 'Kleur_kleding']])], \n",
    "                   axis = 1)"
   ]
  },
  {
   "cell_type": "markdown",
   "metadata": {
    "id": "kpEE0kg2Riue"
   },
   "source": [
    "<a href = \"#opdracht1.4\">Terug naar opdracht 1.4</a>\n",
    "<br>\n",
    "<br>\n",
    "<br>\n",
    "<br>\n",
    "<br>\n",
    "<br>\n",
    "<br>\n",
    "<br>\n",
    "<br>\n",
    "<br>\n",
    "<br>\n",
    "<br>\n",
    "<br>\n",
    "<br>\n",
    "<br>\n",
    "<br>\n",
    "<br>\n",
    "<br>\n",
    "<br>\n",
    "<br>\n",
    "<br>\n",
    "<br>\n",
    "<br>\n",
    "<br>\n",
    "<br>\n",
    "<br>\n",
    "<br>\n",
    "<br>\n",
    "<br>\n",
    "<br>"
   ]
  }
 ],
 "metadata": {
  "colab": {
   "collapsed_sections": [
    "iI-lR2UsRiub"
   ],
   "name": "Werkboek 1.ipynb",
   "provenance": []
  },
  "kernelspec": {
   "display_name": "Python 3",
   "language": "python",
   "name": "python3"
  },
  "language_info": {
   "codemirror_mode": {
    "name": "ipython",
    "version": 3
   },
   "file_extension": ".py",
   "mimetype": "text/x-python",
   "name": "python",
   "nbconvert_exporter": "python",
   "pygments_lexer": "ipython3",
   "version": "3.8.5"
  }
 },
 "nbformat": 4,
 "nbformat_minor": 1
}
